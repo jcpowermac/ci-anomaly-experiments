{
 "cells": [
  {
   "cell_type": "code",
   "id": "initial_id",
   "metadata": {
    "collapsed": true,
    "ExecuteTime": {
     "end_time": "2025-03-24T16:41:47.358312Z",
     "start_time": "2025-03-24T16:41:47.356329Z"
    }
   },
   "source": [
    "import xml.etree.ElementTree as ET\n",
    "\n",
    "import pandas as pd\n",
    "import numpy as np"
   ],
   "outputs": [],
   "execution_count": 103
  },
  {
   "metadata": {
    "ExecuteTime": {
     "end_time": "2025-03-24T16:41:47.443933Z",
     "start_time": "2025-03-24T16:41:47.403499Z"
    }
   },
   "cell_type": "code",
   "source": [
    "junits =[\"junit_e2e__20250321-020621.xml\",\"junit_e2e__20250321-171237.xml\", \"junit_e2e__20250323-005317.xml\"]\n",
    "\n",
    "job = 0\n",
    "\n",
    "all_job_test_results = {}\n",
    "\n",
    "for junit in junits:\n",
    "    flakes = []\n",
    "    root = ET.parse(junit).getroot()\n",
    "\n",
    "    tests_count = root.get(\"tests\")\n",
    "    if int(tests_count) <= 1000:\n",
    "        continue\n",
    "\n",
    "    for testcase in root.iter('testcase'):\n",
    "        testname = testcase.get('name')\n",
    "\n",
    "        if testname in flakes:\n",
    "            continue\n",
    "\n",
    "        skipped = testcase.find('skipped')\n",
    "        failure = testcase.find('failure')\n",
    "\n",
    "        if all_job_test_results.get(testname) is None:\n",
    "            all_job_test_results[testname] = {}\n",
    "\n",
    "        if skipped is not None:\n",
    "            continue\n",
    "\n",
    "        test_state = 1\n",
    "        if failure is not None:\n",
    "            if \"flake\" in failure.text:\n",
    "                flakes.append(testname)\n",
    "                continue\n",
    "            test_state = 0\n",
    "\n",
    "        if all_job_test_results[testname].get(job) is None:\n",
    "            all_job_test_results[testname][job] = test_state\n",
    "        else:\n",
    "            if all_job_test_results[testname][job] != test_state:\n",
    "                if all_job_test_results[testname][job] == 0:\n",
    "                    continue\n",
    "                else:\n",
    "                    all_job_test_results[testname][job] = test_state\n",
    "\n",
    "                #print(f\"original state: {all_job_test_results[testname][job]}\")\n",
    "                #print(f\"{testname} {test_state} {job}\")\n",
    "\n",
    "    job += 1\n",
    "\n",
    "\n",
    "df = pd.DataFrame.from_dict(all_job_test_results, orient='index')\n",
    "\n",
    "df.describe()\n"
   ],
   "id": "598a920b18bd38da",
   "outputs": [
    {
     "data": {
      "text/plain": [
       "                 0            1\n",
       "count  1593.000000  1545.000000\n",
       "mean      0.994350     0.997411\n",
       "std       0.074976     0.050833\n",
       "min       0.000000     0.000000\n",
       "25%       1.000000     1.000000\n",
       "50%       1.000000     1.000000\n",
       "75%       1.000000     1.000000\n",
       "max       1.000000     1.000000"
      ],
      "text/html": [
       "<div>\n",
       "<style scoped>\n",
       "    .dataframe tbody tr th:only-of-type {\n",
       "        vertical-align: middle;\n",
       "    }\n",
       "\n",
       "    .dataframe tbody tr th {\n",
       "        vertical-align: top;\n",
       "    }\n",
       "\n",
       "    .dataframe thead th {\n",
       "        text-align: right;\n",
       "    }\n",
       "</style>\n",
       "<table border=\"1\" class=\"dataframe\">\n",
       "  <thead>\n",
       "    <tr style=\"text-align: right;\">\n",
       "      <th></th>\n",
       "      <th>0</th>\n",
       "      <th>1</th>\n",
       "    </tr>\n",
       "  </thead>\n",
       "  <tbody>\n",
       "    <tr>\n",
       "      <th>count</th>\n",
       "      <td>1593.000000</td>\n",
       "      <td>1545.000000</td>\n",
       "    </tr>\n",
       "    <tr>\n",
       "      <th>mean</th>\n",
       "      <td>0.994350</td>\n",
       "      <td>0.997411</td>\n",
       "    </tr>\n",
       "    <tr>\n",
       "      <th>std</th>\n",
       "      <td>0.074976</td>\n",
       "      <td>0.050833</td>\n",
       "    </tr>\n",
       "    <tr>\n",
       "      <th>min</th>\n",
       "      <td>0.000000</td>\n",
       "      <td>0.000000</td>\n",
       "    </tr>\n",
       "    <tr>\n",
       "      <th>25%</th>\n",
       "      <td>1.000000</td>\n",
       "      <td>1.000000</td>\n",
       "    </tr>\n",
       "    <tr>\n",
       "      <th>50%</th>\n",
       "      <td>1.000000</td>\n",
       "      <td>1.000000</td>\n",
       "    </tr>\n",
       "    <tr>\n",
       "      <th>75%</th>\n",
       "      <td>1.000000</td>\n",
       "      <td>1.000000</td>\n",
       "    </tr>\n",
       "    <tr>\n",
       "      <th>max</th>\n",
       "      <td>1.000000</td>\n",
       "      <td>1.000000</td>\n",
       "    </tr>\n",
       "  </tbody>\n",
       "</table>\n",
       "</div>"
      ]
     },
     "execution_count": 104,
     "metadata": {},
     "output_type": "execute_result"
    }
   ],
   "execution_count": 104
  },
  {
   "metadata": {
    "ExecuteTime": {
     "end_time": "2025-03-24T16:41:47.530989Z",
     "start_time": "2025-03-24T16:41:47.529742Z"
    }
   },
   "cell_type": "code",
   "source": "",
   "id": "9acd9ec497bbf026",
   "outputs": [],
   "execution_count": null
  },
  {
   "metadata": {
    "ExecuteTime": {
     "end_time": "2025-03-24T16:41:47.573700Z",
     "start_time": "2025-03-24T16:41:47.569353Z"
    }
   },
   "cell_type": "code",
   "source": "df.head()",
   "id": "d5f92da208146e2e",
   "outputs": [
    {
     "data": {
      "text/plain": [
       "                                                      0    1\n",
       "[sig-cluster-lifecycle][Feature:Machines][Early...  1.0  NaN\n",
       "[sig-cluster-lifecycle][Feature:Machines] Manag...  1.0  NaN\n",
       "[sig-node] Managed cluster record the number of...  1.0  1.0\n",
       "[sig-ci] [Early] prow job name should match sec...  1.0  1.0\n",
       "[sig-arch][Early] Managed cluster should [apigr...  0.0  1.0"
      ],
      "text/html": [
       "<div>\n",
       "<style scoped>\n",
       "    .dataframe tbody tr th:only-of-type {\n",
       "        vertical-align: middle;\n",
       "    }\n",
       "\n",
       "    .dataframe tbody tr th {\n",
       "        vertical-align: top;\n",
       "    }\n",
       "\n",
       "    .dataframe thead th {\n",
       "        text-align: right;\n",
       "    }\n",
       "</style>\n",
       "<table border=\"1\" class=\"dataframe\">\n",
       "  <thead>\n",
       "    <tr style=\"text-align: right;\">\n",
       "      <th></th>\n",
       "      <th>0</th>\n",
       "      <th>1</th>\n",
       "    </tr>\n",
       "  </thead>\n",
       "  <tbody>\n",
       "    <tr>\n",
       "      <th>[sig-cluster-lifecycle][Feature:Machines][Early] Managed cluster should have same number of Machines and Nodes [apigroup:machine.openshift.io] [Suite:openshift/conformance/parallel]</th>\n",
       "      <td>1.0</td>\n",
       "      <td>NaN</td>\n",
       "    </tr>\n",
       "    <tr>\n",
       "      <th>[sig-cluster-lifecycle][Feature:Machines] Managed cluster should [sig-scheduling][Early] control plane machine set operator should not cause an early rollout [Suite:openshift/conformance/parallel]</th>\n",
       "      <td>1.0</td>\n",
       "      <td>NaN</td>\n",
       "    </tr>\n",
       "    <tr>\n",
       "      <th>[sig-node] Managed cluster record the number of nodes at the beginning of the tests [Early] [Suite:openshift/conformance/parallel]</th>\n",
       "      <td>1.0</td>\n",
       "      <td>1.0</td>\n",
       "    </tr>\n",
       "    <tr>\n",
       "      <th>[sig-ci] [Early] prow job name should match security mode [Suite:openshift/conformance/parallel]</th>\n",
       "      <td>1.0</td>\n",
       "      <td>1.0</td>\n",
       "    </tr>\n",
       "    <tr>\n",
       "      <th>[sig-arch][Early] Managed cluster should [apigroup:config.openshift.io] start all core operators [Skipped:Disconnected] [Suite:openshift/conformance/parallel]</th>\n",
       "      <td>0.0</td>\n",
       "      <td>1.0</td>\n",
       "    </tr>\n",
       "  </tbody>\n",
       "</table>\n",
       "</div>"
      ]
     },
     "execution_count": 105,
     "metadata": {},
     "output_type": "execute_result"
    }
   ],
   "execution_count": 105
  },
  {
   "metadata": {
    "ExecuteTime": {
     "end_time": "2025-03-24T16:41:47.638427Z",
     "start_time": "2025-03-24T16:41:47.637048Z"
    }
   },
   "cell_type": "code",
   "source": "",
   "id": "2a0d0a98db19dcd0",
   "outputs": [],
   "execution_count": null
  },
  {
   "metadata": {
    "ExecuteTime": {
     "end_time": "2025-03-24T16:41:47.685419Z",
     "start_time": "2025-03-24T16:41:47.680401Z"
    }
   },
   "cell_type": "code",
   "source": "df",
   "id": "a7fad5a7536d303a",
   "outputs": [
    {
     "data": {
      "text/plain": [
       "                                                      0    1\n",
       "[sig-cluster-lifecycle][Feature:Machines][Early...  1.0  NaN\n",
       "[sig-cluster-lifecycle][Feature:Machines] Manag...  1.0  NaN\n",
       "[sig-node] Managed cluster record the number of...  1.0  1.0\n",
       "[sig-ci] [Early] prow job name should match sec...  1.0  1.0\n",
       "[sig-arch][Early] Managed cluster should [apigr...  0.0  1.0\n",
       "...                                                 ...  ...\n",
       "Cluster should be stable before test is started     1.0  1.0\n",
       "[sig-network-edge][Conformance][Area:Networking...  NaN  1.0\n",
       "[sig-instrumentation][Late] Alerts shouldn't ex...  NaN  1.0\n",
       "[sig-network] LoadBalancers [Feature:LoadBalanc...  NaN  0.0\n",
       "[sig-network] LoadBalancers [Feature:LoadBalanc...  NaN  0.0\n",
       "\n",
       "[1597 rows x 2 columns]"
      ],
      "text/html": [
       "<div>\n",
       "<style scoped>\n",
       "    .dataframe tbody tr th:only-of-type {\n",
       "        vertical-align: middle;\n",
       "    }\n",
       "\n",
       "    .dataframe tbody tr th {\n",
       "        vertical-align: top;\n",
       "    }\n",
       "\n",
       "    .dataframe thead th {\n",
       "        text-align: right;\n",
       "    }\n",
       "</style>\n",
       "<table border=\"1\" class=\"dataframe\">\n",
       "  <thead>\n",
       "    <tr style=\"text-align: right;\">\n",
       "      <th></th>\n",
       "      <th>0</th>\n",
       "      <th>1</th>\n",
       "    </tr>\n",
       "  </thead>\n",
       "  <tbody>\n",
       "    <tr>\n",
       "      <th>[sig-cluster-lifecycle][Feature:Machines][Early] Managed cluster should have same number of Machines and Nodes [apigroup:machine.openshift.io] [Suite:openshift/conformance/parallel]</th>\n",
       "      <td>1.0</td>\n",
       "      <td>NaN</td>\n",
       "    </tr>\n",
       "    <tr>\n",
       "      <th>[sig-cluster-lifecycle][Feature:Machines] Managed cluster should [sig-scheduling][Early] control plane machine set operator should not cause an early rollout [Suite:openshift/conformance/parallel]</th>\n",
       "      <td>1.0</td>\n",
       "      <td>NaN</td>\n",
       "    </tr>\n",
       "    <tr>\n",
       "      <th>[sig-node] Managed cluster record the number of nodes at the beginning of the tests [Early] [Suite:openshift/conformance/parallel]</th>\n",
       "      <td>1.0</td>\n",
       "      <td>1.0</td>\n",
       "    </tr>\n",
       "    <tr>\n",
       "      <th>[sig-ci] [Early] prow job name should match security mode [Suite:openshift/conformance/parallel]</th>\n",
       "      <td>1.0</td>\n",
       "      <td>1.0</td>\n",
       "    </tr>\n",
       "    <tr>\n",
       "      <th>[sig-arch][Early] Managed cluster should [apigroup:config.openshift.io] start all core operators [Skipped:Disconnected] [Suite:openshift/conformance/parallel]</th>\n",
       "      <td>0.0</td>\n",
       "      <td>1.0</td>\n",
       "    </tr>\n",
       "    <tr>\n",
       "      <th>...</th>\n",
       "      <td>...</td>\n",
       "      <td>...</td>\n",
       "    </tr>\n",
       "    <tr>\n",
       "      <th>Cluster should be stable before test is started</th>\n",
       "      <td>1.0</td>\n",
       "      <td>1.0</td>\n",
       "    </tr>\n",
       "    <tr>\n",
       "      <th>[sig-network-edge][Conformance][Area:Networking][Feature:Router] The HAProxy router should be able to connect to a service that is idled because a GET on the route will unidle it [Skipped:Disconnected] [Suite:openshift/conformance/parallel/minimal]</th>\n",
       "      <td>NaN</td>\n",
       "      <td>1.0</td>\n",
       "    </tr>\n",
       "    <tr>\n",
       "      <th>[sig-instrumentation][Late] Alerts shouldn't exceed the series limit of total series sent via telemetry from each cluster [Suite:openshift/conformance/parallel]</th>\n",
       "      <td>NaN</td>\n",
       "      <td>1.0</td>\n",
       "    </tr>\n",
       "    <tr>\n",
       "      <th>[sig-network] LoadBalancers [Feature:LoadBalancer] should be able to preserve UDP traffic when server pod cycles for a LoadBalancer service on different nodes [Skipped:alibabacloud] [Skipped:aws] [Skipped:baremetal] [Skipped:ibmcloud] [Skipped:kubevirt] [Skipped:nutanix] [Skipped:openstack] [Skipped:ovirt] [Skipped:vsphere] [Suite:openshift/conformance/parallel] [Suite:k8s]</th>\n",
       "      <td>NaN</td>\n",
       "      <td>0.0</td>\n",
       "    </tr>\n",
       "    <tr>\n",
       "      <th>[sig-network] LoadBalancers [Feature:LoadBalancer] should be able to preserve UDP traffic when server pod cycles for a LoadBalancer service on the same nodes [Skipped:alibabacloud] [Skipped:aws] [Skipped:baremetal] [Skipped:ibmcloud] [Skipped:kubevirt] [Skipped:nutanix] [Skipped:openstack] [Skipped:ovirt] [Skipped:vsphere] [Suite:openshift/conformance/parallel] [Suite:k8s]</th>\n",
       "      <td>NaN</td>\n",
       "      <td>0.0</td>\n",
       "    </tr>\n",
       "  </tbody>\n",
       "</table>\n",
       "<p>1597 rows × 2 columns</p>\n",
       "</div>"
      ]
     },
     "execution_count": 106,
     "metadata": {},
     "output_type": "execute_result"
    }
   ],
   "execution_count": 106
  },
  {
   "metadata": {
    "ExecuteTime": {
     "end_time": "2025-03-24T16:41:47.739182Z",
     "start_time": "2025-03-24T16:41:47.737868Z"
    }
   },
   "cell_type": "code",
   "source": "",
   "id": "a967365ebbf382bc",
   "outputs": [],
   "execution_count": null
  }
 ],
 "metadata": {
  "kernelspec": {
   "display_name": "Python 3",
   "language": "python",
   "name": "python3"
  },
  "language_info": {
   "codemirror_mode": {
    "name": "ipython",
    "version": 2
   },
   "file_extension": ".py",
   "mimetype": "text/x-python",
   "name": "python",
   "nbconvert_exporter": "python",
   "pygments_lexer": "ipython2",
   "version": "2.7.6"
  }
 },
 "nbformat": 4,
 "nbformat_minor": 5
}
