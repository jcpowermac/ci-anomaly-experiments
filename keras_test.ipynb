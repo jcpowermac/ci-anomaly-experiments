{
 "cells": [
  {
   "cell_type": "code",
   "id": "initial_id",
   "metadata": {
    "collapsed": true,
    "ExecuteTime": {
     "end_time": "2025-03-27T18:23:06.617231Z",
     "start_time": "2025-03-27T18:23:05.691373Z"
    }
   },
   "source": [
    "import numpy as np\n",
    "import pandas as pd\n",
    "import keras\n",
    "from keras import layers\n",
    "from matplotlib import pyplot as plt\n"
   ],
   "outputs": [
    {
     "name": "stderr",
     "output_type": "stream",
     "text": [
      "2025-03-27 14:23:05.818486: I tensorflow/core/util/port.cc:153] oneDNN custom operations are on. You may see slightly different numerical results due to floating-point round-off errors from different computation orders. To turn them off, set the environment variable `TF_ENABLE_ONEDNN_OPTS=0`.\n",
      "2025-03-27 14:23:05.818961: I external/local_xla/xla/tsl/cuda/cudart_stub.cc:32] Could not find cuda drivers on your machine, GPU will not be used.\n",
      "2025-03-27 14:23:05.820970: I external/local_xla/xla/tsl/cuda/cudart_stub.cc:32] Could not find cuda drivers on your machine, GPU will not be used.\n",
      "2025-03-27 14:23:05.825266: E external/local_xla/xla/stream_executor/cuda/cuda_fft.cc:467] Unable to register cuFFT factory: Attempting to register factory for plugin cuFFT when one has already been registered\n",
      "WARNING: All log messages before absl::InitializeLog() is called are written to STDERR\n",
      "E0000 00:00:1743099785.833213 1793691 cuda_dnn.cc:8579] Unable to register cuDNN factory: Attempting to register factory for plugin cuDNN when one has already been registered\n",
      "E0000 00:00:1743099785.835584 1793691 cuda_blas.cc:1407] Unable to register cuBLAS factory: Attempting to register factory for plugin cuBLAS when one has already been registered\n",
      "W0000 00:00:1743099785.842295 1793691 computation_placer.cc:177] computation placer already registered. Please check linkage and avoid linking the same target more than once.\n",
      "W0000 00:00:1743099785.842303 1793691 computation_placer.cc:177] computation placer already registered. Please check linkage and avoid linking the same target more than once.\n",
      "W0000 00:00:1743099785.842304 1793691 computation_placer.cc:177] computation placer already registered. Please check linkage and avoid linking the same target more than once.\n",
      "W0000 00:00:1743099785.842304 1793691 computation_placer.cc:177] computation placer already registered. Please check linkage and avoid linking the same target more than once.\n",
      "2025-03-27 14:23:05.844596: I tensorflow/core/platform/cpu_feature_guard.cc:210] This TensorFlow binary is optimized to use available CPU instructions in performance-critical operations.\n",
      "To enable the following instructions: AVX2 AVX_VNNI AVX_VNNI_INT8 AVX_NE_CONVERT FMA, in other operations, rebuild TensorFlow with the appropriate compiler flags.\n"
     ]
    }
   ],
   "execution_count": 2
  },
  {
   "metadata": {
    "ExecuteTime": {
     "end_time": "2025-03-27T12:54:05.017672Z",
     "start_time": "2025-03-27T12:54:04.445710Z"
    }
   },
   "cell_type": "code",
   "source": [
    "master_url_root = \"https://raw.githubusercontent.com/numenta/NAB/master/data/\"\n",
    "\n",
    "df_small_noise_url_suffix = \"artificialNoAnomaly/art_daily_small_noise.csv\"\n",
    "df_small_noise_url = master_url_root + df_small_noise_url_suffix\n",
    "df_small_noise = pd.read_csv(\n",
    "    df_small_noise_url, parse_dates=True, index_col=\"timestamp\"\n",
    ")\n",
    "\n",
    "df_daily_jumpsup_url_suffix = \"artificialWithAnomaly/art_daily_jumpsup.csv\"\n",
    "df_daily_jumpsup_url = master_url_root + df_daily_jumpsup_url_suffix\n",
    "df_daily_jumpsup = pd.read_csv(\n",
    "    df_daily_jumpsup_url, parse_dates=True, index_col=\"timestamp\"\n",
    ")\n"
   ],
   "id": "e25b42a3a1a23f",
   "outputs": [],
   "execution_count": 2
  },
  {
   "metadata": {
    "ExecuteTime": {
     "end_time": "2025-03-27T18:23:12.173584Z",
     "start_time": "2025-03-27T18:23:10.897294Z"
    }
   },
   "cell_type": "code",
   "source": [
    "(x_train, y_train), (x_test, y_test) = keras.datasets.mnist.load_data()\n",
    "\n",
    "\n",
    "type(x_train)\n"
   ],
   "id": "12a61eee4e5ea29b",
   "outputs": [
    {
     "name": "stdout",
     "output_type": "stream",
     "text": [
      "Downloading data from https://storage.googleapis.com/tensorflow/tf-keras-datasets/mnist.npz\n",
      "\u001B[1m11490434/11490434\u001B[0m \u001B[32m━━━━━━━━━━━━━━━━━━━━\u001B[0m\u001B[37m\u001B[0m \u001B[1m1s\u001B[0m 0us/step\n"
     ]
    },
    {
     "data": {
      "text/plain": [
       "numpy.ndarray"
      ]
     },
     "execution_count": 3,
     "metadata": {},
     "output_type": "execute_result"
    }
   ],
   "execution_count": 3
  },
  {
   "metadata": {
    "ExecuteTime": {
     "end_time": "2025-03-27T12:54:10.903878Z",
     "start_time": "2025-03-27T12:54:10.900682Z"
    }
   },
   "cell_type": "code",
   "source": [
    "print(df_small_noise.head())\n",
    "\n",
    "print(df_daily_jumpsup.head())\n"
   ],
   "id": "fb65916f4d849a75",
   "outputs": [
    {
     "name": "stdout",
     "output_type": "stream",
     "text": [
      "                         value\n",
      "timestamp                     \n",
      "2014-04-01 00:00:00  18.324919\n",
      "2014-04-01 00:05:00  21.970327\n",
      "2014-04-01 00:10:00  18.624806\n",
      "2014-04-01 00:15:00  21.953684\n",
      "2014-04-01 00:20:00  21.909120\n",
      "                         value\n",
      "timestamp                     \n",
      "2014-04-01 00:00:00  19.761252\n",
      "2014-04-01 00:05:00  20.500833\n",
      "2014-04-01 00:10:00  19.961641\n",
      "2014-04-01 00:15:00  21.490266\n",
      "2014-04-01 00:20:00  20.187739\n"
     ]
    }
   ],
   "execution_count": 3
  },
  {
   "metadata": {
    "ExecuteTime": {
     "end_time": "2025-03-27T12:54:36.985624Z",
     "start_time": "2025-03-27T12:54:36.982862Z"
    }
   },
   "cell_type": "code",
   "source": [
    "training_mean = df_small_noise.mean()\n",
    "training_std = df_small_noise.std()\n",
    "df_training_value = (df_small_noise - training_mean) / training_std\n",
    "print(\"Number of training samples:\", len(df_training_value))"
   ],
   "id": "bc519b9027cfc4d4",
   "outputs": [
    {
     "name": "stdout",
     "output_type": "stream",
     "text": [
      "Number of training samples: 4032\n"
     ]
    }
   ],
   "execution_count": 4
  },
  {
   "metadata": {
    "ExecuteTime": {
     "end_time": "2025-03-27T12:54:48.478234Z",
     "start_time": "2025-03-27T12:54:48.473306Z"
    }
   },
   "cell_type": "code",
   "source": [
    "TIME_STEPS = 288\n",
    "\n",
    "\n",
    "# Generated training sequences for use in the model.\n",
    "def create_sequences(values, time_steps=TIME_STEPS):\n",
    "    output = []\n",
    "    for i in range(len(values) - time_steps + 1):\n",
    "        output.append(values[i : (i + time_steps)])\n",
    "    return np.stack(output)\n",
    "\n",
    "\n",
    "x_train = create_sequences(df_training_value.values)\n",
    "print(\"Training input shape: \", x_train.shape)\n"
   ],
   "id": "a3b84cdf07ab068d",
   "outputs": [
    {
     "name": "stdout",
     "output_type": "stream",
     "text": [
      "Training input shape:  (3745, 288, 1)\n"
     ]
    }
   ],
   "execution_count": 5
  },
  {
   "metadata": {
    "ExecuteTime": {
     "end_time": "2025-03-27T12:54:54.281614Z",
     "start_time": "2025-03-27T12:54:54.278399Z"
    }
   },
   "cell_type": "code",
   "source": "x_train",
   "id": "91fd695b6b1e33c2",
   "outputs": [
    {
     "data": {
      "text/plain": [
       "array([[[-0.85882857],\n",
       "        [-0.72899302],\n",
       "        [-0.84814772],\n",
       "        ...,\n",
       "        [-0.86453747],\n",
       "        [-0.81250829],\n",
       "        [-0.79671155]],\n",
       "\n",
       "       [[-0.72899302],\n",
       "        [-0.84814772],\n",
       "        [-0.72958579],\n",
       "        ...,\n",
       "        [-0.81250829],\n",
       "        [-0.79671155],\n",
       "        [-0.78767946]],\n",
       "\n",
       "       [[-0.84814772],\n",
       "        [-0.72958579],\n",
       "        [-0.731173  ],\n",
       "        ...,\n",
       "        [-0.79671155],\n",
       "        [-0.78767946],\n",
       "        [-0.73706287]],\n",
       "\n",
       "       ...,\n",
       "\n",
       "       [[-0.8226548 ],\n",
       "        [-0.86660975],\n",
       "        [-0.82181363],\n",
       "        ...,\n",
       "        [-0.79164661],\n",
       "        [-0.78025492],\n",
       "        [-0.83364049]],\n",
       "\n",
       "       [[-0.86660975],\n",
       "        [-0.82181363],\n",
       "        [-0.75595835],\n",
       "        ...,\n",
       "        [-0.78025492],\n",
       "        [-0.83364049],\n",
       "        [-0.73510213]],\n",
       "\n",
       "       [[-0.82181363],\n",
       "        [-0.75595835],\n",
       "        [-0.74256753],\n",
       "        ...,\n",
       "        [-0.83364049],\n",
       "        [-0.73510213],\n",
       "        [-0.8460886 ]]])"
      ]
     },
     "execution_count": 6,
     "metadata": {},
     "output_type": "execute_result"
    }
   ],
   "execution_count": 6
  },
  {
   "metadata": {},
   "cell_type": "code",
   "outputs": [],
   "execution_count": null,
   "source": "",
   "id": "d062d34e8729c912"
  }
 ],
 "metadata": {
  "kernelspec": {
   "display_name": "Python 3",
   "language": "python",
   "name": "python3"
  },
  "language_info": {
   "codemirror_mode": {
    "name": "ipython",
    "version": 2
   },
   "file_extension": ".py",
   "mimetype": "text/x-python",
   "name": "python",
   "nbconvert_exporter": "python",
   "pygments_lexer": "ipython2",
   "version": "2.7.6"
  }
 },
 "nbformat": 4,
 "nbformat_minor": 5
}
